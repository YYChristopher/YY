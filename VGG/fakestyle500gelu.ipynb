{
 "cells": [
  {
   "cell_type": "code",
   "execution_count": 1,
   "metadata": {},
   "outputs": [],
   "source": [
    "from tensorflow.keras import Model, layers\n",
    "from tensorflow.keras.layers import Input, Conv2D, BatchNormalization, Activation, Reshape\n",
    "import tensorflow as tf\n",
    "import sys, os\n",
    "import cv2 as cv\n",
    "import numpy as np\n",
    "from matplotlib import pyplot as plt\n",
    "import tensorflow as tf\n",
    "from tensorflow.keras import datasets, optimizers, metrics, layers, Sequential, Model, Input, losses\n",
    "import time\n",
    "from load_datasets import DataLoader\n",
    "from sklearn.model_selection import train_test_split\n",
    "from sklearn import metrics\n",
    "from sklearn.metrics import precision_score, recall_score"
   ]
  },
  {
   "cell_type": "code",
   "execution_count": 2,
   "metadata": {},
   "outputs": [],
   "source": [
    "def VGG16(input_height, input_width, input_channel, n_class, include_top=False):\n",
    "\n",
    "    '''\n",
    "    VGG16结构为：此处用gelu作为激活函数\n",
    "    第1个卷积块：2层通道为64的卷积+池化\n",
    "    第2个卷积块：2层通道为128的卷积+池化\n",
    "    第3个卷积块：3层通道为256的卷积+池化\n",
    "    第4个卷积块：3层通道为512的卷积+池化\n",
    "    第5个卷积块：3层通道为512的卷积+池化\n",
    "    '''\n",
    "\n",
    "    input_img = Input(shape=(input_height, input_width, input_channel,))\n",
    "    # 第1块\n",
    "    x = layers.Conv2D(64, kernel_size=3, strides=1, padding='same', activation='gelu', name='block1_conv1')(input_img)\n",
    "    x = layers.Conv2D(64, kernel_size=3, strides=1, padding='same', activation='gelu', name='block1_conv2')(x)\n",
    "    x = layers.MaxPooling2D(pool_size=(2, 2), strides=2)(x)\n",
    "    # 第2块\n",
    "    x = layers.Conv2D(128, kernel_size=3, strides=1, padding='same', activation='gelu', name='block2_conv1')(x)\n",
    "    x = layers.Conv2D(128, kernel_size=3, strides=1, padding='same', activation='gelu', name='block2_conv2')(x)\n",
    "    x = layers.MaxPooling2D(pool_size=(2, 2), strides=2)(x)\n",
    "    # 第3块\n",
    "    x = layers.Conv2D(256, kernel_size=3, strides=1, padding='same', activation='gelu', name='block3_conv1')(x)\n",
    "    x = layers.Conv2D(256, kernel_size=3, strides=1, padding='same', activation='gelu', name='block3_conv2')(x)\n",
    "    x = layers.Conv2D(256, kernel_size=3, strides=1, padding='same', activation='gelu', name='block3_conv3')(x)\n",
    "    x = layers.MaxPooling2D(pool_size=(2, 2), strides=2)(x)\n",
    "    # 第4块\n",
    "    x = layers.Conv2D(512, kernel_size=3, strides=1, padding='same', activation='gelu', name='block4_conv1')(x)\n",
    "    x = layers.Conv2D(512, kernel_size=3, strides=1, padding='same', activation='gelu', name='block4_conv2')(x)\n",
    "    x = layers.Conv2D(512, kernel_size=3, strides=1, padding='same', activation='gelu', name='block4_conv3')(x)\n",
    "    x = layers.MaxPooling2D(pool_size=(2, 2), strides=2)(x)\n",
    "    # 第5块\n",
    "    x = layers.Conv2D(512, kernel_size=3, strides=1, padding='same', activation='gelu', name='block5_conv1')(x)\n",
    "    x = layers.Conv2D(512, kernel_size=3, strides=1, padding='same', activation='gelu', name='block5_conv2')(x)\n",
    "    x = layers.Conv2D(512, kernel_size=3, strides=1, padding='same', activation='gelu', name='block5_conv3')(x)\n",
    "    x = layers.MaxPooling2D(pool_size=(2, 2), strides=2)(x)\n",
    "    if include_top:  # 是否需要包括全连接层\n",
    "        x = layers.Flatten(name='flatten')(x)\n",
    "        x = layers.Dense(4096, activation='relu', name='fc1')(x)\n",
    "        x = layers.Dense(4096, activation='relu', name='fc2')(x)\n",
    "        x = layers.Dense(n_class, activation='softmax', name='predictions')(x)\n",
    "    model = Model(inputs=input_img, outputs=x)  #给定模型的输入与输出\n",
    "    print('VGG16层数:', len(model.layers))\n",
    "    return model"
   ]
  },
  {
   "cell_type": "code",
   "execution_count": 3,
   "metadata": {},
   "outputs": [],
   "source": [
    "def draw_loss(start_epochs, end_epochs, loss_list, val_loss_list, accuracy_list, val_accuracy_list):  # 绘制损失函数图像的函数。\n",
    "    \n",
    "    ''' \n",
    "    start_epochs: 开始位置epoch\n",
    "    end_epochs: 结束位置epoch\n",
    "    loss_list: 存储的训练集上的损失\n",
    "    val_loss_list: 存储的验证集上的损失\n",
    "    accuracy_list: 训练集上准确率List\n",
    "    val_accuracy_list: 验证集上准确率list\n",
    "    '''\n",
    "\n",
    "    fig = plt.figure(figsize=(10, 7))\n",
    "    ax1 = plt.subplot(2, 1, 1)\n",
    "    plt.title('loss and val_loss')\n",
    "    plt.plot(range(start_epochs, end_epochs), loss_list, label='loss', color='g')\n",
    "    plt.plot(range(start_epochs, end_epochs), val_loss_list, label='val_loss', color='r')\n",
    "    plt.xlabel('epochs')\n",
    "    plt.ylabel('loss')\n",
    "    plt.xticks(range(start_epochs, end_epochs + 1, 10))\n",
    "    plt.tight_layout()  # 自动调整各子图间距\n",
    "    plt.legend()\n",
    "\n",
    "    ax2 = plt.subplot(2, 1, 2)\n",
    "    plt.title('accuracy and val_accuracy')\n",
    "    plt.plot(range(start_epochs, end_epochs), accuracy_list, label='accuracy', color='g')\n",
    "    plt.plot(range(start_epochs, end_epochs), val_accuracy_list, label='val_accuracy', color='r')\n",
    "    plt.xlabel('epochs')\n",
    "    plt.ylabel('loss')\n",
    "    plt.xticks(range(start_epochs, end_epochs + 1, 10))\n",
    "    plt.tight_layout()  # 自动调整各子图间距\n",
    "    plt.legend()\n",
    "    plt.show()"
   ]
  },
  {
   "cell_type": "code",
   "execution_count": 4,
   "metadata": {},
   "outputs": [],
   "source": [
    "def plot_matrix(y_true, y_pred, labels_name, title=None, thresh=0.8, axis_labels=None):\n",
    "    # 利用sklearn中的函数生成混淆矩阵并归一化\n",
    "    plt.figure(figsize=(10,10))\n",
    "    cm = metrics.confusion_matrix(y_true, y_pred, labels=labels_name, sample_weight=None)  # 生成混淆矩阵 \n",
    "    cm = cm.astype('float') / cm.sum(axis=1)[:, np.newaxis]  # 归一化\n",
    "\n",
    "    # 画图，如果希望改变颜色风格，可以改变此部分的cmap=pl.get_cmap('Blues')处\n",
    "    plt.imshow(cm, interpolation='nearest', cmap=plt.get_cmap('Blues'))\n",
    "    plt.colorbar()  # 绘制图例\n",
    "\n",
    "    # 图像标题\n",
    "    if title is not None:\n",
    "        plt.title(title)\n",
    "    # 绘制坐标\n",
    "    num_local = np.array(range(len(labels_name)))\n",
    "    if axis_labels is None:\n",
    "        axis_labels = labels_name\n",
    "    plt.xticks(num_local, axis_labels, rotation=45)  # 将标签印在x轴坐标上， 并倾斜45度\n",
    "    plt.yticks(num_local, axis_labels)  # 将标签印在y轴坐标上\n",
    "    plt.ylabel('True label')\n",
    "    plt.xlabel('Predicted label')\n",
    "\n",
    "    # 将百分比打印在相应的格子内，大于thresh的用白字，小于的用黑字\n",
    "    for i in range(np.shape(cm)[0]):\n",
    "        for j in range(np.shape(cm)[1]):\n",
    "            if int(cm[i][j] * 100 + 0.5) > 0:\n",
    "                plt.text(j, i, format(int(cm[i][j] * 100 + 0.5), 'd') + '%',\n",
    "                        ha=\"center\", va=\"center\",\n",
    "                        color=\"white\" if cm[i][j] > thresh else \"black\")  # 如果要更改颜色风格，需要同时更改此行\n",
    "    # 显示\n",
    "    plt.show()"
   ]
  },
  {
   "cell_type": "code",
   "execution_count": 5,
   "metadata": {},
   "outputs": [],
   "source": [
    "# 定义参数（调参只需要改这里即可，其他地方不用改）\n",
    "n_class = 2  # 类别数\n",
    "batch_size = 128  # 每次训练的批次（太大可能会显存不够而报错，可调小再试）开始设置为128，因显存不够报错了。\n",
    "epochs = 100  # 共迭代训练几次\n",
    "lr = 1e-5  # 学习率\n",
    "dataset_name = 'female'  # 数据集的名字\n",
    "dir_path = r'./datasets/%s' % dataset_name  # 数据集的路径\n",
    "h, w = 64, 64  # 数据集图片的宽和高"
   ]
  },
  {
   "cell_type": "code",
   "execution_count": 6,
   "metadata": {},
   "outputs": [],
   "source": [
    "# 加载数据集和预处理\n",
    "dataloader = DataLoader(dataset_name=dataset_name, norm_range=(0, 1), img_res=(h, w))  #加载数据集\n",
    "# x_train, y_train, _, _ = dataloader.load_datasets(dir_path=r'datasets/%s' % dataset_name, test_size=0)  # 加载数据集\n",
    "x, y = dataloader.load_datasets(dir_path)"
   ]
  },
  {
   "cell_type": "code",
   "execution_count": 7,
   "metadata": {},
   "outputs": [],
   "source": [
    "x_train_val, x_test, y_train_val, y_test = train_test_split(x, y, test_size=0.2, random_state=0)  # 以0.5的比例方式划分训练和测试集\n",
    "x_train, x_val, y_train, y_val = train_test_split(x_train_val,y_train_val,test_size=0.125, random_state=2)"
   ]
  },
  {
   "cell_type": "code",
   "execution_count": 8,
   "metadata": {},
   "outputs": [
    {
     "name": "stdout",
     "output_type": "stream",
     "text": [
      "(7350, 64, 64, 3) (1050, 64, 64, 3) (2100, 64, 64, 3) (7350,) (1050,) (2100,)\n",
      "[1 1 1 ... 1 1 1]\n"
     ]
    },
    {
     "name": "stderr",
     "output_type": "stream",
     "text": [
      "2022-12-25 17:48:00.769457: I tensorflow/core/platform/cpu_feature_guard.cc:151] This TensorFlow binary is optimized with oneAPI Deep Neural Network Library (oneDNN) to use the following CPU instructions in performance-critical operations:  AVX2 AVX512F FMA\n",
      "To enable them in other operations, rebuild TensorFlow with the appropriate compiler flags.\n",
      "2022-12-25 17:48:01.262237: I tensorflow/core/common_runtime/gpu/gpu_device.cc:1525] Created device /job:localhost/replica:0/task:0/device:GPU:0 with 22308 MB memory:  -> device: 0, name: NVIDIA GeForce RTX 3090, pci bus id: 0000:57:00.0, compute capability: 8.6\n"
     ]
    }
   ],
   "source": [
    "y_train_onehot = tf.one_hot(y_train, depth=n_class)  # 转为one_hot编码，用于进行分类\n",
    "y_test_onehot = tf.one_hot(y_test, depth=n_class)  # 转为one_hot编码，用于进行分类\n",
    "y_val_onehot = tf.one_hot(y_val, depth=n_class)  # 转为one_hot编码，用于进行分类\n",
    "print(x_train.shape, x_val.shape, x_test.shape, y_train.shape, y_val.shape, y_test.shape)\n",
    "_, h, w, c = x_train.shape\n",
    "print(y_train)"
   ]
  },
  {
   "cell_type": "code",
   "execution_count": 9,
   "metadata": {},
   "outputs": [
    {
     "name": "stdout",
     "output_type": "stream",
     "text": [
      "(128, 64, 64, 3)\n",
      "VGG16层数: 23\n"
     ]
    }
   ],
   "source": [
    "# 将训练与测试数据全部打包成tensor\n",
    "train_db = tf.data.Dataset.from_tensor_slices((x_train, y_train_onehot)).shuffle(len(x_train)).batch(batch_size)  #在转成tensor同时需要shuffle一下\n",
    "val_db = tf.data.Dataset.from_tensor_slices((x_val, y_val_onehot)).batch(batch_size) \n",
    "test_db = tf.data.Dataset.from_tensor_slices((x_test, y_test_onehot)).batch(batch_size) \n",
    "print(next(iter(train_db))[0].shape)\n",
    "# for i in range(100):  # 简单展示图片看看有没错\n",
    "#     plt.imshow(np.flip(np.array(next(iter(train_db))[0][i] * 255), axis=-1).astype('uint8'))\n",
    "#     plt.show()\n",
    "# 搭建网络\n",
    "model = VGG16(h, w, c, n_class, include_top=True)\n",
    "optimizer = optimizers.Adam(learning_rate=lr)  # 设置优化器\n",
    "# 初始化指标\n",
    "accuracy_train = tf.keras.metrics.CategoricalAccuracy()\n",
    "accuracy_val = tf.keras.metrics.CategoricalAccuracy()\n",
    "accuracy_test = tf.keras.metrics.CategoricalAccuracy()\n"
   ]
  },
  {
   "cell_type": "code",
   "execution_count": 10,
   "metadata": {},
   "outputs": [],
   "source": [
    "# 训练\n",
    "@tf.function  #@tf.function用于加快函数训练时的运算速度\n",
    "def train(x, y):\n",
    "    with tf.GradientTape(persistent=True) as tape:\n",
    "        y_pred = model(x, training=True)  # (b,h,w,c)\n",
    "        loss = tf.reduce_mean(\n",
    "            losses.categorical_crossentropy(y_true=y, y_pred=y_pred, from_logits=False))  #计算损失。损失为信息熵\n",
    "    # 求梯度和利用优化器反向传播\n",
    "    grads = tape.gradient(loss, model.trainable_variables)\n",
    "    optimizer.apply_gradients(zip(grads, model.trainable_variables))\n",
    "    accuracy_train.update_state(y_true=y, y_pred=y_pred)  # 计算准确率\n",
    "    return loss"
   ]
  },
  {
   "cell_type": "code",
   "execution_count": 11,
   "metadata": {},
   "outputs": [],
   "source": [
    "# 测试\n",
    "@tf.function\n",
    "def val(x, y):\n",
    "    y_pred = model(x, training=False)  # (b,h,w,c)\n",
    "    loss = tf.reduce_mean(\n",
    "        losses.categorical_crossentropy(y_true=y, y_pred=y_pred, from_logits=False))\n",
    "    accuracy_val.update_state(y_true=y, y_pred=y_pred)  # 计算准确率\n",
    "    return loss"
   ]
  },
  {
   "cell_type": "code",
   "execution_count": 12,
   "metadata": {},
   "outputs": [],
   "source": [
    "# 测试\n",
    "@tf.function\n",
    "def test(x, y):\n",
    "    y_pred = model(x, training=False)  # (b,h,w,c)\n",
    "    loss = tf.reduce_mean(\n",
    "        losses.categorical_crossentropy(y_true=y, y_pred=y_pred, from_logits=False))\n",
    "    accuracy_test.update_state(y_true=y, y_pred=y_pred)  # 计算准确率\n",
    "    return loss"
   ]
  },
  {
   "cell_type": "code",
   "execution_count": 13,
   "metadata": {},
   "outputs": [
    {
     "name": "stdout",
     "output_type": "stream",
     "text": [
      "已加载模型\n"
     ]
    }
   ],
   "source": [
    "# 加载模型\n",
    "try:\n",
    "    model.load_weights('model5.h5')\n",
    "    print('已加载模型')\n",
    "except:\n",
    "    print('模型未加载！重新训练')"
   ]
  },
  {
   "cell_type": "code",
   "execution_count": 14,
   "metadata": {
    "collapsed": true,
    "jupyter": {
     "outputs_hidden": true
    },
    "tags": []
   },
   "outputs": [
    {
     "name": "stderr",
     "output_type": "stream",
     "text": [
      "2022-12-21 21:20:46.028009: I tensorflow/stream_executor/cuda/cuda_dnn.cc:366] Loaded cuDNN version 8101\n",
      "2022-12-21 21:20:47.579992: I tensorflow/stream_executor/cuda/cuda_blas.cc:1774] TensorFloat-32 will be used for the matrix multiplication. This will only be logged once.\n"
     ]
    },
    {
     "name": "stdout",
     "output_type": "stream",
     "text": [
      "WARNING:tensorflow:Compiled the loaded model, but the compiled metrics have yet to be built. `model.compile_metrics` will be empty until you train or evaluate the model.\n",
      "epoch:1/100: train_loss:0.635414 train_acc:0.952925 val_loss:0.254442 val_acc:0.939048 用时:9.107938\n",
      "WARNING:tensorflow:Compiled the loaded model, but the compiled metrics have yet to be built. `model.compile_metrics` will be empty until you train or evaluate the model.\n",
      "epoch:2/100: train_loss:0.196936 train_acc:0.954694 val_loss:0.227824 val_acc:0.939048 用时:4.032717\n",
      "WARNING:tensorflow:Compiled the loaded model, but the compiled metrics have yet to be built. `model.compile_metrics` will be empty until you train or evaluate the model.\n",
      "epoch:3/100: train_loss:0.188131 train_acc:0.954694 val_loss:0.227823 val_acc:0.939048 用时:4.011634\n",
      "WARNING:tensorflow:Compiled the loaded model, but the compiled metrics have yet to be built. `model.compile_metrics` will be empty until you train or evaluate the model.\n",
      "epoch:4/100: train_loss:0.185406 train_acc:0.954694 val_loss:0.230745 val_acc:0.939048 用时:4.002754\n",
      "WARNING:tensorflow:Compiled the loaded model, but the compiled metrics have yet to be built. `model.compile_metrics` will be empty until you train or evaluate the model.\n",
      "epoch:5/100: train_loss:0.190003 train_acc:0.954694 val_loss:0.225226 val_acc:0.939048 用时:4.000074\n",
      "WARNING:tensorflow:Compiled the loaded model, but the compiled metrics have yet to be built. `model.compile_metrics` will be empty until you train or evaluate the model.\n",
      "epoch:6/100: train_loss:0.185968 train_acc:0.954694 val_loss:0.227890 val_acc:0.939048 用时:4.008284\n",
      "WARNING:tensorflow:Compiled the loaded model, but the compiled metrics have yet to be built. `model.compile_metrics` will be empty until you train or evaluate the model.\n",
      "epoch:7/100: train_loss:0.185310 train_acc:0.954694 val_loss:0.225232 val_acc:0.939048 用时:4.001586\n",
      "WARNING:tensorflow:Compiled the loaded model, but the compiled metrics have yet to be built. `model.compile_metrics` will be empty until you train or evaluate the model.\n",
      "epoch:8/100: train_loss:0.186719 train_acc:0.954694 val_loss:0.225386 val_acc:0.939048 用时:3.985144\n",
      "WARNING:tensorflow:Compiled the loaded model, but the compiled metrics have yet to be built. `model.compile_metrics` will be empty until you train or evaluate the model.\n",
      "epoch:9/100: train_loss:0.187336 train_acc:0.954694 val_loss:0.228779 val_acc:0.939048 用时:4.030137\n",
      "WARNING:tensorflow:Compiled the loaded model, but the compiled metrics have yet to be built. `model.compile_metrics` will be empty until you train or evaluate the model.\n",
      "epoch:10/100: train_loss:0.185723 train_acc:0.954694 val_loss:0.232478 val_acc:0.939048 用时:4.064163\n",
      "WARNING:tensorflow:Compiled the loaded model, but the compiled metrics have yet to be built. `model.compile_metrics` will be empty until you train or evaluate the model.\n",
      "epoch:11/100: train_loss:0.186962 train_acc:0.954694 val_loss:0.226815 val_acc:0.939048 用时:4.075961\n",
      "WARNING:tensorflow:Compiled the loaded model, but the compiled metrics have yet to be built. `model.compile_metrics` will be empty until you train or evaluate the model.\n",
      "epoch:12/100: train_loss:0.185714 train_acc:0.954694 val_loss:0.230758 val_acc:0.939048 用时:4.026895\n",
      "WARNING:tensorflow:Compiled the loaded model, but the compiled metrics have yet to be built. `model.compile_metrics` will be empty until you train or evaluate the model.\n",
      "epoch:13/100: train_loss:0.184751 train_acc:0.954694 val_loss:0.231277 val_acc:0.939048 用时:4.027671\n",
      "WARNING:tensorflow:Compiled the loaded model, but the compiled metrics have yet to be built. `model.compile_metrics` will be empty until you train or evaluate the model.\n",
      "epoch:14/100: train_loss:0.185537 train_acc:0.954694 val_loss:0.233983 val_acc:0.939048 用时:4.036432\n",
      "WARNING:tensorflow:Compiled the loaded model, but the compiled metrics have yet to be built. `model.compile_metrics` will be empty until you train or evaluate the model.\n",
      "epoch:15/100: train_loss:0.185315 train_acc:0.954694 val_loss:0.238845 val_acc:0.939048 用时:4.020667\n",
      "WARNING:tensorflow:Compiled the loaded model, but the compiled metrics have yet to be built. `model.compile_metrics` will be empty until you train or evaluate the model.\n",
      "epoch:16/100: train_loss:0.186632 train_acc:0.954694 val_loss:0.226871 val_acc:0.939048 用时:4.197650\n",
      "WARNING:tensorflow:Compiled the loaded model, but the compiled metrics have yet to be built. `model.compile_metrics` will be empty until you train or evaluate the model.\n",
      "epoch:17/100: train_loss:0.184742 train_acc:0.954694 val_loss:0.236719 val_acc:0.939048 用时:4.021054\n",
      "WARNING:tensorflow:Compiled the loaded model, but the compiled metrics have yet to be built. `model.compile_metrics` will be empty until you train or evaluate the model.\n",
      "epoch:18/100: train_loss:0.185589 train_acc:0.954694 val_loss:0.226101 val_acc:0.939048 用时:4.044798\n",
      "WARNING:tensorflow:Compiled the loaded model, but the compiled metrics have yet to be built. `model.compile_metrics` will be empty until you train or evaluate the model.\n",
      "epoch:19/100: train_loss:0.185890 train_acc:0.954694 val_loss:0.224993 val_acc:0.939048 用时:4.036306\n",
      "WARNING:tensorflow:Compiled the loaded model, but the compiled metrics have yet to be built. `model.compile_metrics` will be empty until you train or evaluate the model.\n",
      "epoch:20/100: train_loss:0.185240 train_acc:0.954694 val_loss:0.228768 val_acc:0.939048 用时:4.012732\n",
      "WARNING:tensorflow:Compiled the loaded model, but the compiled metrics have yet to be built. `model.compile_metrics` will be empty until you train or evaluate the model.\n",
      "epoch:21/100: train_loss:0.184479 train_acc:0.954694 val_loss:0.233073 val_acc:0.939048 用时:4.023817\n",
      "WARNING:tensorflow:Compiled the loaded model, but the compiled metrics have yet to be built. `model.compile_metrics` will be empty until you train or evaluate the model.\n",
      "epoch:22/100: train_loss:0.184898 train_acc:0.954694 val_loss:0.224599 val_acc:0.939048 用时:4.049923\n",
      "WARNING:tensorflow:Compiled the loaded model, but the compiled metrics have yet to be built. `model.compile_metrics` will be empty until you train or evaluate the model.\n",
      "epoch:23/100: train_loss:0.184076 train_acc:0.954694 val_loss:0.225401 val_acc:0.939048 用时:4.044379\n",
      "WARNING:tensorflow:Compiled the loaded model, but the compiled metrics have yet to be built. `model.compile_metrics` will be empty until you train or evaluate the model.\n",
      "epoch:24/100: train_loss:0.183929 train_acc:0.954694 val_loss:0.223103 val_acc:0.939048 用时:4.099193\n",
      "WARNING:tensorflow:Compiled the loaded model, but the compiled metrics have yet to be built. `model.compile_metrics` will be empty until you train or evaluate the model.\n",
      "epoch:25/100: train_loss:0.184562 train_acc:0.954694 val_loss:0.223010 val_acc:0.939048 用时:4.091118\n",
      "WARNING:tensorflow:Compiled the loaded model, but the compiled metrics have yet to be built. `model.compile_metrics` will be empty until you train or evaluate the model.\n",
      "epoch:26/100: train_loss:0.185521 train_acc:0.954694 val_loss:0.224028 val_acc:0.939048 用时:4.032241\n",
      "WARNING:tensorflow:Compiled the loaded model, but the compiled metrics have yet to be built. `model.compile_metrics` will be empty until you train or evaluate the model.\n",
      "epoch:27/100: train_loss:0.182776 train_acc:0.954694 val_loss:0.222271 val_acc:0.939048 用时:4.052288\n",
      "WARNING:tensorflow:Compiled the loaded model, but the compiled metrics have yet to be built. `model.compile_metrics` will be empty until you train or evaluate the model.\n",
      "epoch:28/100: train_loss:0.182951 train_acc:0.954694 val_loss:0.220300 val_acc:0.939048 用时:4.112206\n",
      "WARNING:tensorflow:Compiled the loaded model, but the compiled metrics have yet to be built. `model.compile_metrics` will be empty until you train or evaluate the model.\n",
      "epoch:29/100: train_loss:0.181419 train_acc:0.954694 val_loss:0.223081 val_acc:0.939048 用时:4.065722\n",
      "WARNING:tensorflow:Compiled the loaded model, but the compiled metrics have yet to be built. `model.compile_metrics` will be empty until you train or evaluate the model.\n",
      "epoch:30/100: train_loss:0.183229 train_acc:0.954694 val_loss:0.219614 val_acc:0.939048 用时:4.132444\n",
      "WARNING:tensorflow:Compiled the loaded model, but the compiled metrics have yet to be built. `model.compile_metrics` will be empty until you train or evaluate the model.\n",
      "epoch:31/100: train_loss:0.182377 train_acc:0.954694 val_loss:0.216167 val_acc:0.939048 用时:4.015285\n",
      "WARNING:tensorflow:Compiled the loaded model, but the compiled metrics have yet to be built. `model.compile_metrics` will be empty until you train or evaluate the model.\n",
      "epoch:32/100: train_loss:0.179302 train_acc:0.954694 val_loss:0.220640 val_acc:0.939048 用时:4.050036\n",
      "WARNING:tensorflow:Compiled the loaded model, but the compiled metrics have yet to be built. `model.compile_metrics` will be empty until you train or evaluate the model.\n",
      "epoch:33/100: train_loss:0.179709 train_acc:0.954694 val_loss:0.210826 val_acc:0.939048 用时:4.038074\n",
      "WARNING:tensorflow:Compiled the loaded model, but the compiled metrics have yet to be built. `model.compile_metrics` will be empty until you train or evaluate the model.\n",
      "epoch:34/100: train_loss:0.170748 train_acc:0.954694 val_loss:0.193686 val_acc:0.939048 用时:4.063817\n",
      "WARNING:tensorflow:Compiled the loaded model, but the compiled metrics have yet to be built. `model.compile_metrics` will be empty until you train or evaluate the model.\n",
      "epoch:35/100: train_loss:0.167569 train_acc:0.954558 val_loss:0.189563 val_acc:0.939048 用时:4.027094\n",
      "WARNING:tensorflow:Compiled the loaded model, but the compiled metrics have yet to be built. `model.compile_metrics` will be empty until you train or evaluate the model.\n",
      "epoch:36/100: train_loss:0.157960 train_acc:0.954694 val_loss:0.191451 val_acc:0.939048 用时:4.105709\n",
      "WARNING:tensorflow:Compiled the loaded model, but the compiled metrics have yet to be built. `model.compile_metrics` will be empty until you train or evaluate the model.\n",
      "epoch:37/100: train_loss:0.151124 train_acc:0.954694 val_loss:0.171198 val_acc:0.939048 用时:4.132314\n",
      "WARNING:tensorflow:Compiled the loaded model, but the compiled metrics have yet to be built. `model.compile_metrics` will be empty until you train or evaluate the model.\n",
      "epoch:38/100: train_loss:0.151879 train_acc:0.954694 val_loss:0.162577 val_acc:0.939048 用时:4.031445\n",
      "WARNING:tensorflow:Compiled the loaded model, but the compiled metrics have yet to be built. `model.compile_metrics` will be empty until you train or evaluate the model.\n",
      "epoch:39/100: train_loss:0.141192 train_acc:0.954694 val_loss:0.158200 val_acc:0.939048 用时:4.035615\n",
      "WARNING:tensorflow:Compiled the loaded model, but the compiled metrics have yet to be built. `model.compile_metrics` will be empty until you train or evaluate the model.\n",
      "epoch:40/100: train_loss:0.151464 train_acc:0.954694 val_loss:0.178776 val_acc:0.939048 用时:4.084558\n",
      "WARNING:tensorflow:Compiled the loaded model, but the compiled metrics have yet to be built. `model.compile_metrics` will be empty until you train or evaluate the model.\n",
      "epoch:41/100: train_loss:0.145048 train_acc:0.954558 val_loss:0.160658 val_acc:0.939048 用时:4.043803\n",
      "WARNING:tensorflow:Compiled the loaded model, but the compiled metrics have yet to be built. `model.compile_metrics` will be empty until you train or evaluate the model.\n",
      "epoch:42/100: train_loss:0.136988 train_acc:0.954966 val_loss:0.150437 val_acc:0.941905 用时:4.065501\n",
      "WARNING:tensorflow:Compiled the loaded model, but the compiled metrics have yet to be built. `model.compile_metrics` will be empty until you train or evaluate the model.\n",
      "epoch:43/100: train_loss:0.137129 train_acc:0.956190 val_loss:0.155761 val_acc:0.940952 用时:4.020224\n",
      "WARNING:tensorflow:Compiled the loaded model, but the compiled metrics have yet to be built. `model.compile_metrics` will be empty until you train or evaluate the model.\n",
      "epoch:44/100: train_loss:0.143670 train_acc:0.954966 val_loss:0.145282 val_acc:0.942857 用时:4.037400\n",
      "WARNING:tensorflow:Compiled the loaded model, but the compiled metrics have yet to be built. `model.compile_metrics` will be empty until you train or evaluate the model.\n",
      "epoch:45/100: train_loss:0.130709 train_acc:0.957551 val_loss:0.152594 val_acc:0.942857 用时:4.046768\n",
      "WARNING:tensorflow:Compiled the loaded model, but the compiled metrics have yet to be built. `model.compile_metrics` will be empty until you train or evaluate the model.\n",
      "epoch:46/100: train_loss:0.130088 train_acc:0.956463 val_loss:0.138027 val_acc:0.943810 用时:4.067039\n",
      "WARNING:tensorflow:Compiled the loaded model, but the compiled metrics have yet to be built. `model.compile_metrics` will be empty until you train or evaluate the model.\n",
      "epoch:47/100: train_loss:0.128857 train_acc:0.958095 val_loss:0.139789 val_acc:0.945714 用时:4.023463\n",
      "WARNING:tensorflow:Compiled the loaded model, but the compiled metrics have yet to be built. `model.compile_metrics` will be empty until you train or evaluate the model.\n",
      "epoch:48/100: train_loss:0.127959 train_acc:0.958776 val_loss:0.153750 val_acc:0.941905 用时:4.117766\n",
      "WARNING:tensorflow:Compiled the loaded model, but the compiled metrics have yet to be built. `model.compile_metrics` will be empty until you train or evaluate the model.\n",
      "epoch:49/100: train_loss:0.136406 train_acc:0.956735 val_loss:0.155543 val_acc:0.940952 用时:4.049710\n",
      "WARNING:tensorflow:Compiled the loaded model, but the compiled metrics have yet to be built. `model.compile_metrics` will be empty until you train or evaluate the model.\n",
      "epoch:50/100: train_loss:0.126239 train_acc:0.957007 val_loss:0.136362 val_acc:0.947619 用时:4.068573\n",
      "WARNING:tensorflow:Compiled the loaded model, but the compiled metrics have yet to be built. `model.compile_metrics` will be empty until you train or evaluate the model.\n",
      "epoch:51/100: train_loss:0.124639 train_acc:0.957279 val_loss:0.137640 val_acc:0.942857 用时:4.066646\n",
      "WARNING:tensorflow:Compiled the loaded model, but the compiled metrics have yet to be built. `model.compile_metrics` will be empty until you train or evaluate the model.\n",
      "epoch:52/100: train_loss:0.124928 train_acc:0.959320 val_loss:0.138850 val_acc:0.945714 用时:4.043216\n",
      "WARNING:tensorflow:Compiled the loaded model, but the compiled metrics have yet to be built. `model.compile_metrics` will be empty until you train or evaluate the model.\n",
      "epoch:53/100: train_loss:0.122790 train_acc:0.958912 val_loss:0.130074 val_acc:0.945714 用时:4.046663\n",
      "WARNING:tensorflow:Compiled the loaded model, but the compiled metrics have yet to be built. `model.compile_metrics` will be empty until you train or evaluate the model.\n",
      "epoch:54/100: train_loss:0.120684 train_acc:0.958231 val_loss:0.181262 val_acc:0.940952 用时:4.109588\n",
      "WARNING:tensorflow:Compiled the loaded model, but the compiled metrics have yet to be built. `model.compile_metrics` will be empty until you train or evaluate the model.\n",
      "epoch:55/100: train_loss:0.129103 train_acc:0.956599 val_loss:0.147363 val_acc:0.940952 用时:4.062399\n",
      "WARNING:tensorflow:Compiled the loaded model, but the compiled metrics have yet to be built. `model.compile_metrics` will be empty until you train or evaluate the model.\n",
      "epoch:56/100: train_loss:0.122042 train_acc:0.959048 val_loss:0.125001 val_acc:0.949524 用时:4.095655\n",
      "WARNING:tensorflow:Compiled the loaded model, but the compiled metrics have yet to be built. `model.compile_metrics` will be empty until you train or evaluate the model.\n",
      "epoch:57/100: train_loss:0.114983 train_acc:0.960544 val_loss:0.122766 val_acc:0.948571 用时:4.051767\n",
      "WARNING:tensorflow:Compiled the loaded model, but the compiled metrics have yet to be built. `model.compile_metrics` will be empty until you train or evaluate the model.\n",
      "epoch:58/100: train_loss:0.113214 train_acc:0.959456 val_loss:0.164839 val_acc:0.943810 用时:4.078586\n",
      "WARNING:tensorflow:Compiled the loaded model, but the compiled metrics have yet to be built. `model.compile_metrics` will be empty until you train or evaluate the model.\n",
      "epoch:59/100: train_loss:0.118966 train_acc:0.960816 val_loss:0.121048 val_acc:0.948571 用时:4.032329\n",
      "WARNING:tensorflow:Compiled the loaded model, but the compiled metrics have yet to be built. `model.compile_metrics` will be empty until you train or evaluate the model.\n",
      "epoch:60/100: train_loss:0.115494 train_acc:0.960272 val_loss:0.128895 val_acc:0.950476 用时:4.028208\n",
      "WARNING:tensorflow:Compiled the loaded model, but the compiled metrics have yet to be built. `model.compile_metrics` will be empty until you train or evaluate the model.\n",
      "epoch:61/100: train_loss:0.121640 train_acc:0.959184 val_loss:0.124949 val_acc:0.950476 用时:4.111356\n",
      "WARNING:tensorflow:Compiled the loaded model, but the compiled metrics have yet to be built. `model.compile_metrics` will be empty until you train or evaluate the model.\n",
      "epoch:62/100: train_loss:0.107913 train_acc:0.964082 val_loss:0.112203 val_acc:0.956190 用时:4.036611\n",
      "WARNING:tensorflow:Compiled the loaded model, but the compiled metrics have yet to be built. `model.compile_metrics` will be empty until you train or evaluate the model.\n",
      "epoch:63/100: train_loss:0.108694 train_acc:0.960952 val_loss:0.139928 val_acc:0.947619 用时:4.071909\n",
      "WARNING:tensorflow:Compiled the loaded model, but the compiled metrics have yet to be built. `model.compile_metrics` will be empty until you train or evaluate the model.\n",
      "epoch:64/100: train_loss:0.104992 train_acc:0.962721 val_loss:0.141054 val_acc:0.947619 用时:4.053382\n",
      "WARNING:tensorflow:Compiled the loaded model, but the compiled metrics have yet to be built. `model.compile_metrics` will be empty until you train or evaluate the model.\n",
      "epoch:65/100: train_loss:0.108342 train_acc:0.962449 val_loss:0.106792 val_acc:0.953333 用时:4.050706\n",
      "WARNING:tensorflow:Compiled the loaded model, but the compiled metrics have yet to be built. `model.compile_metrics` will be empty until you train or evaluate the model.\n",
      "epoch:66/100: train_loss:0.102079 train_acc:0.965306 val_loss:0.114728 val_acc:0.950476 用时:4.038021\n",
      "WARNING:tensorflow:Compiled the loaded model, but the compiled metrics have yet to be built. `model.compile_metrics` will be empty until you train or evaluate the model.\n",
      "epoch:67/100: train_loss:0.100404 train_acc:0.964354 val_loss:0.104336 val_acc:0.955238 用时:4.016421\n",
      "WARNING:tensorflow:Compiled the loaded model, but the compiled metrics have yet to be built. `model.compile_metrics` will be empty until you train or evaluate the model.\n",
      "epoch:68/100: train_loss:0.097021 train_acc:0.967755 val_loss:0.102587 val_acc:0.954286 用时:4.057000\n",
      "WARNING:tensorflow:Compiled the loaded model, but the compiled metrics have yet to be built. `model.compile_metrics` will be empty until you train or evaluate the model.\n",
      "epoch:69/100: train_loss:0.105989 train_acc:0.963810 val_loss:0.258697 val_acc:0.940000 用时:4.084407\n",
      "WARNING:tensorflow:Compiled the loaded model, but the compiled metrics have yet to be built. `model.compile_metrics` will be empty until you train or evaluate the model.\n",
      "epoch:70/100: train_loss:0.126209 train_acc:0.960816 val_loss:0.112301 val_acc:0.953333 用时:4.094115\n",
      "WARNING:tensorflow:Compiled the loaded model, but the compiled metrics have yet to be built. `model.compile_metrics` will be empty until you train or evaluate the model.\n",
      "epoch:71/100: train_loss:0.098460 train_acc:0.965442 val_loss:0.112953 val_acc:0.954286 用时:4.046593\n",
      "WARNING:tensorflow:Compiled the loaded model, but the compiled metrics have yet to be built. `model.compile_metrics` will be empty until you train or evaluate the model.\n",
      "epoch:72/100: train_loss:0.094684 train_acc:0.966803 val_loss:0.109820 val_acc:0.956190 用时:4.028882\n",
      "WARNING:tensorflow:Compiled the loaded model, but the compiled metrics have yet to be built. `model.compile_metrics` will be empty until you train or evaluate the model.\n",
      "epoch:73/100: train_loss:0.094286 train_acc:0.967347 val_loss:0.095997 val_acc:0.960952 用时:4.039004\n",
      "WARNING:tensorflow:Compiled the loaded model, but the compiled metrics have yet to be built. `model.compile_metrics` will be empty until you train or evaluate the model.\n",
      "epoch:74/100: train_loss:0.093086 train_acc:0.968844 val_loss:0.094530 val_acc:0.960952 用时:4.037290\n",
      "WARNING:tensorflow:Compiled the loaded model, but the compiled metrics have yet to be built. `model.compile_metrics` will be empty until you train or evaluate the model.\n",
      "epoch:75/100: train_loss:0.090535 train_acc:0.968571 val_loss:0.092547 val_acc:0.960952 用时:4.062951\n",
      "WARNING:tensorflow:Compiled the loaded model, but the compiled metrics have yet to be built. `model.compile_metrics` will be empty until you train or evaluate the model.\n",
      "epoch:76/100: train_loss:0.092321 train_acc:0.968163 val_loss:0.094071 val_acc:0.960952 用时:4.125110\n",
      "WARNING:tensorflow:Compiled the loaded model, but the compiled metrics have yet to be built. `model.compile_metrics` will be empty until you train or evaluate the model.\n",
      "epoch:77/100: train_loss:0.100549 train_acc:0.965442 val_loss:0.095180 val_acc:0.958095 用时:4.112973\n",
      "WARNING:tensorflow:Compiled the loaded model, but the compiled metrics have yet to be built. `model.compile_metrics` will be empty until you train or evaluate the model.\n",
      "epoch:78/100: train_loss:0.087685 train_acc:0.969388 val_loss:0.108032 val_acc:0.959048 用时:4.025023\n",
      "WARNING:tensorflow:Compiled the loaded model, but the compiled metrics have yet to be built. `model.compile_metrics` will be empty until you train or evaluate the model.\n",
      "epoch:79/100: train_loss:0.089660 train_acc:0.969116 val_loss:0.116785 val_acc:0.955238 用时:4.091123\n",
      "WARNING:tensorflow:Compiled the loaded model, but the compiled metrics have yet to be built. `model.compile_metrics` will be empty until you train or evaluate the model.\n",
      "epoch:80/100: train_loss:0.087958 train_acc:0.968844 val_loss:0.105202 val_acc:0.958095 用时:4.100089\n",
      "WARNING:tensorflow:Compiled the loaded model, but the compiled metrics have yet to be built. `model.compile_metrics` will be empty until you train or evaluate the model.\n",
      "epoch:81/100: train_loss:0.084598 train_acc:0.970340 val_loss:0.091586 val_acc:0.961905 用时:4.073018\n",
      "WARNING:tensorflow:Compiled the loaded model, but the compiled metrics have yet to be built. `model.compile_metrics` will be empty until you train or evaluate the model.\n",
      "epoch:82/100: train_loss:0.087326 train_acc:0.970340 val_loss:0.105650 val_acc:0.958095 用时:4.076070\n",
      "WARNING:tensorflow:Compiled the loaded model, but the compiled metrics have yet to be built. `model.compile_metrics` will be empty until you train or evaluate the model.\n",
      "epoch:83/100: train_loss:0.080017 train_acc:0.972381 val_loss:0.081406 val_acc:0.963810 用时:4.039733\n",
      "WARNING:tensorflow:Compiled the loaded model, but the compiled metrics have yet to be built. `model.compile_metrics` will be empty until you train or evaluate the model.\n",
      "epoch:84/100: train_loss:0.087498 train_acc:0.970204 val_loss:0.087488 val_acc:0.964762 用时:4.035896\n",
      "WARNING:tensorflow:Compiled the loaded model, but the compiled metrics have yet to be built. `model.compile_metrics` will be empty until you train or evaluate the model.\n",
      "epoch:85/100: train_loss:0.087492 train_acc:0.969796 val_loss:0.085331 val_acc:0.963810 用时:4.043573\n",
      "WARNING:tensorflow:Compiled the loaded model, but the compiled metrics have yet to be built. `model.compile_metrics` will be empty until you train or evaluate the model.\n",
      "epoch:86/100: train_loss:0.083855 train_acc:0.972109 val_loss:0.080256 val_acc:0.965714 用时:4.032627\n",
      "WARNING:tensorflow:Compiled the loaded model, but the compiled metrics have yet to be built. `model.compile_metrics` will be empty until you train or evaluate the model.\n",
      "epoch:87/100: train_loss:0.075899 train_acc:0.973469 val_loss:0.085323 val_acc:0.965714 用时:4.065101\n",
      "WARNING:tensorflow:Compiled the loaded model, but the compiled metrics have yet to be built. `model.compile_metrics` will be empty until you train or evaluate the model.\n",
      "epoch:88/100: train_loss:0.084263 train_acc:0.971020 val_loss:0.081090 val_acc:0.971429 用时:4.097546\n",
      "WARNING:tensorflow:Compiled the loaded model, but the compiled metrics have yet to be built. `model.compile_metrics` will be empty until you train or evaluate the model.\n",
      "epoch:89/100: train_loss:0.083444 train_acc:0.970748 val_loss:0.101279 val_acc:0.963810 用时:4.039548\n",
      "WARNING:tensorflow:Compiled the loaded model, but the compiled metrics have yet to be built. `model.compile_metrics` will be empty until you train or evaluate the model.\n",
      "epoch:90/100: train_loss:0.074748 train_acc:0.972653 val_loss:0.082318 val_acc:0.968571 用时:4.029390\n",
      "WARNING:tensorflow:Compiled the loaded model, but the compiled metrics have yet to be built. `model.compile_metrics` will be empty until you train or evaluate the model.\n",
      "epoch:91/100: train_loss:0.077608 train_acc:0.971701 val_loss:0.097122 val_acc:0.964762 用时:4.019595\n",
      "WARNING:tensorflow:Compiled the loaded model, but the compiled metrics have yet to be built. `model.compile_metrics` will be empty until you train or evaluate the model.\n",
      "epoch:92/100: train_loss:0.093625 train_acc:0.968027 val_loss:0.084317 val_acc:0.968571 用时:4.087623\n",
      "WARNING:tensorflow:Compiled the loaded model, but the compiled metrics have yet to be built. `model.compile_metrics` will be empty until you train or evaluate the model.\n",
      "epoch:93/100: train_loss:0.072304 train_acc:0.974966 val_loss:0.074740 val_acc:0.969524 用时:4.054014\n",
      "WARNING:tensorflow:Compiled the loaded model, but the compiled metrics have yet to be built. `model.compile_metrics` will be empty until you train or evaluate the model.\n",
      "epoch:94/100: train_loss:0.072044 train_acc:0.974694 val_loss:0.071886 val_acc:0.973333 用时:4.104465\n",
      "WARNING:tensorflow:Compiled the loaded model, but the compiled metrics have yet to be built. `model.compile_metrics` will be empty until you train or evaluate the model.\n",
      "epoch:95/100: train_loss:0.092503 train_acc:0.967619 val_loss:0.129278 val_acc:0.949524 用时:4.102090\n",
      "WARNING:tensorflow:Compiled the loaded model, but the compiled metrics have yet to be built. `model.compile_metrics` will be empty until you train or evaluate the model.\n",
      "epoch:96/100: train_loss:0.075524 train_acc:0.973878 val_loss:0.071129 val_acc:0.973333 用时:4.064258\n",
      "WARNING:tensorflow:Compiled the loaded model, but the compiled metrics have yet to be built. `model.compile_metrics` will be empty until you train or evaluate the model.\n",
      "epoch:97/100: train_loss:0.068725 train_acc:0.976735 val_loss:0.084288 val_acc:0.966667 用时:4.168513\n",
      "WARNING:tensorflow:Compiled the loaded model, but the compiled metrics have yet to be built. `model.compile_metrics` will be empty until you train or evaluate the model.\n",
      "epoch:98/100: train_loss:0.073923 train_acc:0.974830 val_loss:0.075718 val_acc:0.968571 用时:4.051759\n",
      "WARNING:tensorflow:Compiled the loaded model, but the compiled metrics have yet to be built. `model.compile_metrics` will be empty until you train or evaluate the model.\n",
      "epoch:99/100: train_loss:0.068390 train_acc:0.976463 val_loss:0.066814 val_acc:0.976190 用时:4.039099\n",
      "WARNING:tensorflow:Compiled the loaded model, but the compiled metrics have yet to be built. `model.compile_metrics` will be empty until you train or evaluate the model.\n",
      "epoch:100/100: train_loss:0.072643 train_acc:0.975918 val_loss:0.074398 val_acc:0.968571 用时:4.045578\n"
     ]
    }
   ],
   "source": [
    "# 开始训练\n",
    "train_loss_total_list, val_loss_total_list = [], []\n",
    "accuracy_train_total_list, accuracy_val_total_list = [], []  #记录训练过程中的训练损失、测试损失（验证集损失）\n",
    "for epoch in range(epochs):  # 迭代训练网络\n",
    "    t1 = time.time()  #训练计时\n",
    "    # x_train, y_train, _, _ = dataloader.load_batch(batch_size=batch_size)\n",
    "    # g_total_loss, d_total_loss = train(x_train, y_train)\n",
    "    accuracy_train.reset_states()  # 每一步都需要把准确率重设为零，防止累加\n",
    "    accuracy_val.reset_states()  #测试集同理\n",
    "    train_loss_list, val_loss_list = [], []\n",
    "    # 训练\n",
    "    for x, y in train_db:\n",
    "        train_loss = train(x, y)\n",
    "        train_loss_list.append(train_loss)\n",
    "    # 测试\n",
    "    for x, y in val_db:\n",
    "        val_loss = val(x, y)\n",
    "        val_loss_list.append(val_loss)\n",
    "    train_loss = np.mean(train_loss_list)\n",
    "    val_loss = np.mean(val_loss_list)\n",
    "    # 保存数据和模型\n",
    "    model.save('model5.h5')  # 保存权重\n",
    "    print('epoch:%d/%d:' % (epoch + 1, epochs),\n",
    "          'train_loss:%.6f' % train_loss, 'train_acc:%.6f' % np.array(accuracy_train.result()),\n",
    "          'val_loss:%.6f' % val_loss, 'val_acc:%.6f' % np.array(accuracy_val.result()),\n",
    "          '用时:%.6f' % (time.time() - t1))\n",
    "    train_loss_total_list.append(train_loss)\n",
    "    val_loss_total_list.append(val_loss)\n",
    "    accuracy_train_total_list.append(accuracy_train.result())\n",
    "    accuracy_val_total_list.append(accuracy_val.result())"
   ]
  },
  {
   "cell_type": "code",
   "execution_count": 15,
   "metadata": {},
   "outputs": [
    {
     "data": {
      "image/png": "[encoded data removed]",
      "text/plain": [
       "<Figure size 720x504 with 2 Axes>"
      ]
     },
     "metadata": {
      "needs_background": "light"
     },
     "output_type": "display_data"
    }
   ],
   "source": [
    "try:\n",
    "    draw_loss(0, epochs, train_loss_total_list, val_loss_total_list, accuracy_train_total_list,\n",
    "              accuracy_val_total_list)  # 画出训练曲线\n",
    "except:\n",
    "    pass"
   ]
  },
  {
   "cell_type": "code",
   "execution_count": 14,
   "metadata": {},
   "outputs": [],
   "source": [
    "# 定义参数（调参只需要改这里即可，其他地方不用改）\n",
    "n_class = 2  # 类别数。二分类问题，区分真假\n",
    "batch_size = 128  # 每次训练的批次（太大可能会显存不够而报错，可调小再试）\n",
    "dataset_name = 'female'  # 数据集的名字\n",
    "dir_path = r'./datasets/%s' % dataset_name  # 数据集的路径\n",
    "h, w = 64, 64  # 数据集图片的宽和高"
   ]
  },
  {
   "cell_type": "code",
   "execution_count": 15,
   "metadata": {},
   "outputs": [
    {
     "name": "stdout",
     "output_type": "stream",
     "text": [
      "(7350, 64, 64, 3) (2100, 64, 64, 3) (7350,) (2100,)\n"
     ]
    }
   ],
   "source": [
    "# 加载数据集和预处理\n",
    "dataloader = DataLoader(dataset_name=dataset_name, norm_range=(0, 1), img_res=(h, w))\n",
    "x, y = dataloader.load_datasets(dir_path)\n",
    "y_test_onehot = tf.one_hot(y_test, depth=n_class)  # 转为one_hot编码，用于分类\n",
    "print(x_train.shape, x_test.shape, y_train.shape, y_test.shape)\n",
    "_, h, w, c = x_train.shape\n",
    "test_db = tf.data.Dataset.from_tensor_slices((x_test, y_test_onehot)).batch(batch_size)"
   ]
  },
  {
   "cell_type": "code",
   "execution_count": 16,
   "metadata": {},
   "outputs": [
    {
     "name": "stdout",
     "output_type": "stream",
     "text": [
      "VGG16层数: 23\n"
     ]
    }
   ],
   "source": [
    "# 搭建网络\n",
    "model = VGG16(h, w, c, n_class, include_top=True)"
   ]
  },
  {
   "cell_type": "code",
   "execution_count": 17,
   "metadata": {},
   "outputs": [
    {
     "name": "stdout",
     "output_type": "stream",
     "text": [
      "已加载模型\n"
     ]
    }
   ],
   "source": [
    "# 加载模型\n",
    "try:\n",
    "    model.load_weights('model5.h5')\n",
    "    print('已加载模型')\n",
    "except:\n",
    "    print('模型未加载！')"
   ]
  },
  {
   "cell_type": "code",
   "execution_count": 18,
   "metadata": {
    "tags": []
   },
   "outputs": [
    {
     "name": "stderr",
     "output_type": "stream",
     "text": [
      "2022-12-25 17:49:26.662233: I tensorflow/stream_executor/cuda/cuda_dnn.cc:366] Loaded cuDNN version 8101\n",
      "2022-12-25 17:49:28.042441: I tensorflow/stream_executor/cuda/cuda_blas.cc:1774] TensorFloat-32 will be used for the matrix multiplication. This will only be logged once.\n"
     ]
    },
    {
     "name": "stdout",
     "output_type": "stream",
     "text": [
      "预测值: [1, 1, 1, 1, 1, 1, 1, 1, 1, 1, 1, 1, 1, 1, 1, 1, 1, 1, 1, 1, 1, 1, 1, 1, 1, 1, 1, 1, 1, 1, 1, 1, 1, 1, 1, 1, 1, 1, 1, 1, 1, 1, 1, 1, 1, 1, 1, 1, 1, 1, 1, 1, 0, 1, 1, 1, 1, 1, 1, 1, 1, 1, 1, 1, 1, 1, 1, 1, 1, 1, 1, 1, 1, 1, 1, 1, 1, 1, 1, 1, 1, 1, 1, 0, 1, 1, 1, 1, 1, 1, 1, 1, 0, 1, 1, 1, 1, 1, 1, 1, 1, 1, 1, 1, 1, 1, 1, 1, 1, 1, 1, 1, 0, 1, 1, 1, 1, 1, 1, 1, 1, 1, 1, 1, 1, 1, 1, 1, 1, 1, 1, 1, 1, 1, 1, 1, 1, 1, 1, 1, 1, 0, 1, 1, 1, 1, 1, 1, 1, 1, 1, 1, 1, 1, 1, 0, 1, 1, 1, 1, 1, 1, 1, 1, 1, 0, 1, 1, 1, 0, 1, 1, 1, 1, 1, 1, 1, 0, 1, 1, 0, 1, 1, 1, 1, 1, 1, 1, 1, 1, 1, 1, 1, 1, 1, 0, 1, 1, 1, 1, 1, 1, 1, 1, 1, 1, 1, 1, 1, 1, 1, 1, 1, 1, 1, 1, 1, 1, 1, 1, 1, 1, 1, 1, 1, 1, 1, 1, 1, 1, 1, 1, 1, 0, 1, 1, 1, 1, 1, 1, 1, 1, 1, 1, 1, 1, 1, 1, 1, 1, 1, 1, 1, 1, 1, 1, 1, 1, 1, 1, 1, 1, 1, 1, 1, 1, 1, 1, 1, 1, 1, 1, 1, 1, 1, 1, 1, 1, 1, 1, 1, 1, 1, 1, 1, 1, 1, 1, 1, 1, 1, 1, 1, 1, 1, 1, 1, 1, 1, 1, 1, 1, 1, 1, 1, 1, 1, 1, 1, 1, 1, 1, 1, 1, 1, 1, 1, 1, 1, 1, 1, 1, 1, 1, 1, 1, 1, 1, 1, 1, 1, 1, 1, 1, 1, 1, 1, 1, 1, 1, 1, 1, 0, 1, 1, 1, 1, 1, 1, 1, 1, 1, 1, 1, 1, 1, 1, 1, 1, 1, 1, 1, 1, 1, 1, 1, 1, 1, 1, 1, 1, 1, 1, 1, 1, 1, 1, 1, 1, 1, 1, 1, 1, 1, 1, 1, 1, 1, 1, 1, 1, 1, 1, 1, 1, 1, 1, 1, 1, 1, 1, 1, 1, 1, 1, 1, 1, 1, 1, 1, 1, 1, 0, 1, 1, 1, 1, 1, 1, 1, 1, 1, 1, 1, 1, 1, 1, 1, 1, 1, 1, 1, 1, 1, 1, 1, 1, 1, 1, 1, 1, 1, 1, 1, 1, 1, 1, 1, 1, 1, 1, 1, 1, 1, 1, 1, 1, 1, 1, 1, 1, 1, 1, 1, 1, 1, 1, 1, 1, 1, 1, 1, 1, 1, 1, 1, 1, 1, 1, 1, 1, 1, 1, 1, 1, 1, 1, 1, 1, 1, 1, 1, 1, 1, 1, 1, 1, 1, 1, 1, 1, 1, 1, 1, 1, 0, 1, 1, 1, 1, 1, 1, 1, 1, 1, 1, 0, 1, 1, 1, 1, 1, 1, 1, 1, 1, 1, 1, 1, 1, 1, 1, 1, 1, 1, 1, 1, 1, 1, 1, 1, 0, 1, 1, 1, 1, 1, 1, 1, 1, 1, 1, 1, 1, 1, 1, 1, 1, 1, 1, 1, 1, 1, 1, 1, 1, 1, 1, 1, 1, 1, 1, 1, 1, 1, 1, 1, 1, 1, 1, 1, 1, 1, 1, 1, 1, 1, 1, 1, 1, 1, 1, 1, 1, 1, 1, 1, 1, 1, 1, 1, 1, 1, 1, 1, 1, 1, 1, 1, 1, 1, 1, 0, 1, 1, 1, 1, 1, 1, 1, 1, 1, 1, 1, 1, 1, 1, 1, 1, 1, 1, 1, 1, 1, 1, 1, 1, 1, 1, 1, 1, 1, 1, 1, 1, 1, 1, 1, 1, 1, 1, 1, 1, 1, 1, 1, 1, 1, 1, 1, 1, 1, 1, 1, 1, 1, 1, 1, 1, 1, 1, 1, 1, 1, 1, 1, 1, 1, 1, 1, 1, 1, 1, 1, 1, 1, 1, 1, 1, 1, 1, 1, 0, 1, 1, 1, 1, 1, 1, 1, 1, 1, 1, 1, 1, 1, 1, 1, 1, 1, 1, 1, 1, 1, 1, 1, 0, 1, 1, 1, 1, 1, 1, 1, 1, 1, 1, 1, 1, 1, 1, 1, 1, 1, 1, 1, 1, 0, 1, 1, 1, 1, 1, 1, 1, 1, 1, 1, 1, 1, 1, 1, 1, 1, 1, 1, 1, 1, 1, 1, 1, 1, 1, 1, 1, 1, 0, 1, 1, 1, 1, 1, 1, 1, 1, 1, 1, 1, 1, 1, 1, 1, 1, 1, 1, 1, 1, 1, 1, 1, 1, 1, 1, 1, 0, 0, 1, 1, 1, 1, 1, 1, 1, 1, 1, 1, 1, 1, 1, 1, 1, 1, 0, 1, 1, 1, 1, 1, 1, 1, 1, 1, 1, 1, 1, 1, 1, 1, 1, 1, 1, 1, 1, 1, 1, 1, 1, 1, 1, 1, 1, 1, 1, 1, 1, 1, 1, 1, 1, 1, 0, 1, 1, 1, 1, 0, 1, 1, 1, 1, 1, 1, 1, 1, 1, 1, 1, 1, 1, 1, 1, 1, 1, 1, 1, 1, 1, 1, 1, 1, 1, 1, 1, 1, 1, 1, 1, 1, 1, 1, 1, 1, 1, 1, 1, 1, 1, 1, 1, 1, 1, 1, 1, 1, 1, 1, 1, 1, 1, 1, 1, 1, 1, 1, 1, 1, 1, 0, 1, 1, 1, 1, 1, 1, 0, 1, 1, 1, 1, 1, 1, 0, 1, 1, 1, 0, 1, 1, 1, 1, 1, 1, 1, 1, 1, 1, 1, 1, 1, 1, 1, 1, 1, 1, 1, 1, 1, 1, 1, 1, 1, 1, 1, 1, 1, 1, 1, 1, 0, 1, 1, 1, 1, 1, 1, 1, 1, 1, 1, 1, 1, 1, 1, 1, 1, 1, 1, 1, 1, 1, 1, 1, 1, 1, 1, 1, 1, 1, 1, 1, 1, 1, 1, 1, 1, 1, 1, 1, 1, 1, 1, 1, 1, 1, 1, 1, 1, 1, 1, 1, 1, 1, 1, 1, 1, 1, 1, 1, 1, 1, 1, 1, 1, 1, 1, 0, 1, 1, 1, 1, 1, 1, 1, 1, 1, 1, 1, 1, 1, 1, 1, 1, 0, 1, 1, 1, 1, 1, 1, 1, 1, 1, 1, 1, 1, 1, 1, 1, 1, 1, 1, 1, 1, 1, 1, 1, 1, 1, 1, 1, 1, 1, 1, 1, 1, 1, 1, 1, 1, 1, 1, 1, 1, 1, 1, 1, 1, 1, 1, 1, 1, 1, 1, 1, 1, 1, 1, 1, 1, 1, 1, 1, 1, 1, 1, 1, 1, 1, 1, 1, 1, 1, 1, 1, 1, 1, 1, 1, 1, 1, 1, 1, 1, 1, 1, 1, 1, 1, 0, 1, 1, 1, 1, 1, 1, 1, 1, 1, 1, 1, 1, 1, 1, 1, 0, 1, 1, 1, 1, 1, 1, 1, 1, 1, 1, 1, 1, 0, 1, 1, 1, 1, 1, 1, 1, 1, 1, 1, 1, 1, 1, 1, 1, 1, 1, 1, 1, 1, 1, 1, 1, 1, 1, 1, 1, 1, 1, 1, 1, 1, 1, 1, 1, 1, 1, 1, 1, 1, 1, 1, 1, 1, 1, 1, 1, 1, 1, 1, 1, 1, 1, 1, 1, 1, 1, 1, 1, 1, 1, 1, 1, 1, 1, 1, 1, 1, 0, 1, 1, 1, 1, 1, 1, 0, 1, 1, 1, 1, 1, 1, 1, 1, 1, 1, 1, 1, 1, 1, 1, 1, 1, 1, 1, 1, 1, 1, 1, 1, 1, 1, 1, 1, 1, 1, 1, 1, 1, 1, 1, 1, 1, 1, 1, 1, 1, 1, 1, 1, 1, 0, 1, 1, 1, 1, 1, 1, 1, 1, 1, 1, 1, 1, 1, 1, 0, 1, 1, 1, 1, 1, 1, 1, 1, 1, 1, 1, 1, 1, 1, 1, 1, 1, 1, 1, 1, 1, 1, 1, 1, 1, 1, 1, 1, 1, 1, 1, 1, 1, 1, 1, 1, 1, 1, 1, 1, 0, 1, 1, 1, 1, 1, 1, 1, 1, 1, 1, 1, 1, 1, 1, 1, 1, 1, 1, 1, 1, 1, 1, 1, 1, 1, 1, 1, 1, 1, 1, 1, 1, 1, 1, 1, 1, 1, 1, 1, 1, 1, 0, 1, 1, 1, 1, 1, 1, 1, 1, 1, 1, 1, 1, 1, 1, 1, 1, 1, 1, 1, 1, 1, 1, 1, 1, 1, 1, 1, 1, 1, 1, 1, 1, 1, 1, 1, 1, 1, 1, 1, 1, 1, 1, 1, 1, 1, 1, 1, 1, 1, 1, 1, 1, 1, 1, 1, 1, 1, 1, 1, 1, 1, 0, 1, 1, 1, 1, 1, 1, 1, 1, 1, 1, 1, 1, 1, 1, 1, 1, 1, 1, 1, 1, 1, 1, 1, 1, 1, 1, 1, 1, 1, 1, 1, 1, 1, 1, 1, 1, 1, 1, 1, 1, 1, 1, 1, 1, 1, 1, 1, 1, 1, 1, 0, 1, 1, 0, 1, 1, 1, 1, 1, 1, 1, 1, 1, 1, 1, 1, 1, 1, 1, 1, 1, 1, 1, 1, 1, 1, 1, 1, 1, 1, 1, 1, 1, 1, 1, 1, 1, 1, 1, 1, 1, 1, 1, 1, 1, 1, 1, 1, 1, 1, 1, 0, 1, 1, 1, 1, 1, 1, 1, 1, 1, 1, 1, 1, 1, 1, 1, 1, 1, 0, 1, 1, 1, 1, 1, 1, 1, 0, 1, 1, 1, 1, 1, 1, 0, 1, 1, 1, 1, 1, 1, 1, 1, 1, 1, 1, 1, 1, 1, 1, 1, 1, 1, 1, 1, 1, 1, 1, 1, 1, 1, 1, 1, 1, 1, 1, 1, 1, 1, 1, 1, 1, 1, 1, 1, 1, 1, 1, 1, 1, 1, 1, 1, 1, 1, 1, 1, 1, 1, 1, 1, 1, 1, 1, 1, 1, 1, 1, 1, 1, 1, 1, 1, 1, 1, 1, 1, 1, 1, 1, 1, 1, 0, 1, 1, 1, 1, 0, 1, 0, 1, 1, 1, 1, 1, 1, 1, 1, 1, 1, 1, 1, 1, 1, 1, 1, 1, 1, 1, 1, 1, 1, 1, 1, 1, 1, 1, 1, 1, 1, 1, 1, 0, 1, 1, 1, 1, 1, 1, 1, 1, 1, 1, 1, 1, 1, 1, 1, 1, 1, 1, 1, 1, 1, 1, 1, 1, 1, 1, 1, 1, 1, 1, 1, 1, 1, 1, 1, 1, 1, 1, 1, 1, 1, 1, 1, 1, 1, 1, 1, 1, 1, 1, 1, 1, 1, 1, 1, 1, 1, 1, 1, 1, 1, 1, 1, 1, 1, 1, 1, 1, 1, 1, 1, 1, 1, 1, 1, 1, 1, 1, 1, 1, 1, 1, 1, 1, 1, 1, 1, 1, 1, 1, 1, 1, 1, 1, 1, 1, 1, 1, 1, 1, 1, 1, 1, 1, 1, 1, 1, 1, 1, 1, 1, 1, 1, 1, 1, 1, 1, 1, 1, 1, 1, 1, 1, 1, 1, 1, 1, 1, 1, 1, 1, 1, 1, 1, 1, 1, 1, 1, 1, 1, 1, 1, 1, 1, 1, 1, 1, 1, 1, 1, 1, 1, 1, 1, 1, 1, 1, 1, 1, 1, 1, 1, 1, 1, 1, 1, 1, 1, 1, 1, 1, 1, 1, 1, 1, 1, 1, 1, 1, 1, 1, 1, 1, 1, 1, 1, 1, 0, 0, 1, 1, 1, 1, 1, 1, 1, 1, 1, 1, 1, 1, 1, 1, 1, 1, 1, 1, 1, 1, 1, 1, 1, 1, 1, 1, 1, 1, 1, 1, 1, 1, 0, 1, 1, 1, 0, 1, 1, 1, 1, 1, 1, 1, 1, 1, 1, 1, 1, 1, 1, 1, 1, 1, 1, 1, 1, 1, 1, 1, 1, 1, 1, 1, 1, 1, 1, 1, 1, 1, 1, 1, 1, 1, 1, 1, 1, 1, 1, 1, 1, 1, 1, 1, 1, 1, 1, 1, 1, 1, 1, 1, 1, 1, 1, 1, 1, 1, 1, 1, 1, 1, 1, 1, 1, 1, 1, 1, 1, 1, 1, 1, 1, 1, 1, 1, 1, 0, 1, 1, 1, 1, 1, 1, 1, 1, 1, 1, 1, 1, 1, 1, 1, 1, 1, 1, 1, 1, 1, 1, 1, 1, 1, 1, 1, 1, 1, 1, 1, 1, 1, 1, 1, 1, 1, 1, 1, 1, 1, 1, 1, 1, 1, 1, 1, 1, 1, 1, 1, 1, 1, 1, 1, 1, 1, 1, 1, 1, 1, 0, 1, 1, 1, 1, 1, 1, 1, 1, 1, 1, 1, 1, 1, 1, 1, 1, 1, 0, 1, 1, 1, 1, 1, 1, 1, 1, 1, 1]\n",
      "真实值: [1, 1, 1, 1, 1, 1, 1, 1, 1, 1, 1, 1, 1, 1, 1, 1, 1, 1, 1, 1, 1, 1, 1, 1, 1, 1, 1, 1, 1, 1, 1, 1, 1, 1, 1, 1, 1, 1, 1, 1, 1, 1, 1, 1, 1, 1, 1, 1, 1, 1, 1, 1, 1, 1, 1, 1, 1, 1, 1, 1, 1, 1, 1, 1, 1, 1, 1, 1, 1, 1, 1, 1, 1, 1, 1, 1, 1, 1, 1, 1, 1, 1, 1, 0, 1, 1, 1, 1, 1, 1, 1, 1, 0, 1, 1, 1, 1, 1, 1, 1, 1, 1, 1, 1, 1, 1, 1, 1, 1, 1, 1, 1, 0, 1, 1, 1, 1, 1, 1, 1, 1, 1, 1, 1, 1, 1, 1, 1, 1, 1, 1, 1, 1, 1, 1, 1, 1, 1, 1, 1, 1, 0, 1, 1, 0, 1, 1, 1, 1, 1, 1, 1, 1, 1, 1, 0, 1, 1, 1, 1, 1, 1, 1, 1, 1, 0, 1, 1, 1, 0, 1, 1, 1, 1, 1, 1, 1, 0, 1, 1, 0, 1, 1, 1, 1, 1, 1, 1, 1, 1, 1, 1, 1, 1, 1, 0, 1, 1, 1, 1, 1, 1, 1, 1, 1, 1, 1, 1, 0, 1, 1, 1, 1, 1, 1, 1, 1, 1, 1, 1, 1, 1, 1, 1, 1, 1, 1, 1, 1, 1, 1, 1, 1, 0, 1, 1, 1, 1, 1, 1, 1, 1, 1, 1, 1, 1, 1, 1, 1, 1, 1, 1, 1, 1, 1, 1, 1, 1, 1, 1, 1, 1, 1, 1, 1, 1, 1, 1, 1, 0, 1, 1, 1, 1, 1, 1, 1, 1, 1, 1, 1, 1, 1, 1, 1, 1, 1, 1, 1, 1, 0, 1, 1, 1, 1, 1, 1, 1, 1, 1, 1, 1, 1, 1, 1, 1, 1, 1, 0, 1, 1, 1, 1, 1, 1, 1, 1, 1, 1, 1, 1, 1, 1, 1, 1, 1, 1, 1, 1, 1, 1, 1, 1, 1, 1, 1, 1, 1, 1, 1, 1, 1, 0, 1, 1, 1, 1, 1, 1, 1, 1, 1, 1, 1, 1, 1, 1, 1, 1, 1, 1, 1, 1, 1, 1, 1, 1, 1, 1, 1, 1, 1, 1, 1, 1, 1, 1, 1, 1, 1, 1, 0, 1, 1, 1, 1, 1, 1, 1, 1, 1, 1, 1, 1, 1, 1, 1, 1, 1, 1, 1, 1, 1, 1, 1, 1, 1, 1, 1, 1, 1, 1, 0, 1, 1, 1, 1, 1, 1, 1, 1, 1, 1, 1, 1, 1, 1, 1, 1, 1, 1, 1, 1, 1, 1, 1, 1, 1, 1, 1, 1, 1, 1, 1, 1, 1, 1, 1, 1, 1, 1, 1, 1, 1, 1, 1, 1, 1, 1, 1, 1, 1, 1, 1, 1, 1, 1, 1, 1, 1, 1, 1, 1, 1, 1, 1, 1, 1, 1, 1, 1, 1, 1, 1, 1, 1, 1, 1, 1, 1, 1, 1, 1, 1, 1, 1, 1, 1, 1, 1, 1, 1, 1, 1, 1, 0, 1, 1, 1, 1, 1, 1, 1, 1, 1, 1, 0, 1, 1, 1, 1, 1, 1, 1, 1, 1, 1, 1, 1, 1, 1, 1, 1, 1, 1, 1, 1, 1, 1, 1, 1, 0, 1, 1, 1, 0, 1, 1, 1, 1, 1, 1, 1, 1, 1, 1, 1, 1, 1, 1, 1, 1, 1, 1, 1, 1, 1, 1, 1, 1, 0, 1, 1, 1, 1, 1, 1, 1, 1, 1, 1, 1, 1, 1, 1, 1, 1, 1, 1, 1, 1, 1, 1, 0, 1, 1, 1, 1, 1, 0, 1, 1, 1, 1, 1, 1, 1, 1, 1, 1, 1, 1, 0, 1, 1, 1, 1, 0, 1, 1, 1, 1, 1, 1, 1, 1, 1, 1, 1, 1, 1, 1, 1, 1, 1, 1, 1, 1, 1, 1, 1, 1, 1, 1, 1, 1, 1, 1, 1, 1, 1, 1, 1, 1, 1, 1, 1, 1, 1, 1, 1, 1, 1, 1, 1, 1, 1, 1, 1, 1, 1, 1, 1, 1, 1, 1, 1, 1, 1, 1, 1, 1, 1, 1, 1, 1, 1, 1, 1, 1, 1, 1, 1, 1, 1, 1, 1, 1, 1, 1, 1, 0, 1, 1, 1, 1, 1, 1, 1, 1, 1, 0, 1, 1, 1, 1, 0, 1, 1, 1, 1, 1, 1, 1, 1, 1, 1, 1, 1, 1, 1, 1, 1, 1, 0, 1, 1, 0, 1, 1, 1, 1, 1, 1, 1, 1, 1, 1, 1, 1, 1, 1, 1, 1, 1, 1, 1, 1, 1, 1, 1, 1, 1, 1, 1, 1, 0, 1, 1, 1, 1, 1, 1, 1, 1, 1, 1, 1, 1, 1, 1, 1, 1, 1, 1, 1, 1, 1, 1, 1, 1, 1, 1, 1, 0, 1, 1, 1, 1, 1, 1, 1, 1, 1, 1, 1, 1, 1, 1, 1, 1, 1, 0, 1, 1, 0, 1, 1, 1, 1, 1, 1, 1, 1, 1, 1, 1, 1, 1, 1, 1, 1, 1, 1, 1, 1, 1, 1, 1, 1, 1, 1, 1, 1, 1, 1, 1, 1, 1, 0, 0, 1, 1, 1, 1, 0, 1, 1, 1, 1, 1, 1, 1, 1, 1, 1, 1, 1, 1, 1, 1, 1, 1, 1, 1, 1, 1, 1, 1, 1, 1, 1, 1, 1, 1, 1, 1, 1, 1, 1, 1, 1, 1, 1, 1, 1, 1, 1, 1, 1, 1, 1, 1, 1, 1, 1, 1, 1, 1, 0, 1, 1, 1, 1, 1, 1, 1, 0, 1, 1, 1, 1, 1, 1, 0, 1, 1, 1, 1, 1, 1, 0, 1, 1, 1, 0, 1, 1, 1, 0, 1, 1, 1, 1, 1, 1, 1, 1, 1, 1, 1, 1, 1, 1, 1, 1, 1, 1, 1, 1, 1, 1, 1, 1, 1, 1, 1, 1, 0, 1, 1, 1, 1, 1, 1, 1, 1, 1, 1, 1, 1, 1, 1, 1, 1, 1, 1, 1, 1, 1, 1, 1, 1, 1, 1, 1, 1, 1, 1, 1, 1, 1, 1, 1, 1, 1, 1, 1, 1, 1, 1, 1, 1, 1, 1, 1, 1, 1, 1, 1, 0, 1, 1, 1, 0, 1, 1, 1, 1, 1, 1, 1, 1, 1, 1, 0, 1, 1, 1, 1, 1, 1, 1, 1, 1, 1, 1, 1, 1, 1, 1, 1, 0, 1, 1, 1, 1, 1, 1, 1, 1, 1, 1, 1, 1, 1, 1, 1, 1, 1, 1, 1, 1, 1, 1, 1, 0, 0, 1, 1, 1, 1, 1, 1, 1, 1, 1, 1, 1, 1, 1, 1, 1, 1, 1, 1, 1, 1, 1, 1, 1, 1, 1, 1, 1, 0, 1, 1, 1, 1, 1, 0, 1, 1, 1, 1, 1, 1, 1, 1, 1, 1, 1, 1, 1, 1, 1, 1, 1, 1, 1, 1, 1, 1, 1, 1, 1, 1, 0, 1, 1, 0, 1, 1, 1, 1, 1, 1, 1, 1, 1, 0, 0, 1, 0, 1, 1, 1, 1, 1, 1, 1, 1, 1, 1, 1, 1, 0, 1, 1, 1, 1, 1, 1, 1, 1, 1, 1, 1, 1, 1, 1, 1, 1, 1, 1, 1, 1, 1, 1, 1, 1, 1, 1, 1, 1, 1, 1, 1, 1, 1, 1, 1, 1, 1, 1, 1, 1, 1, 1, 1, 1, 1, 1, 1, 1, 1, 1, 1, 1, 1, 1, 1, 1, 1, 1, 1, 1, 1, 1, 1, 1, 1, 1, 1, 1, 0, 1, 1, 1, 1, 0, 1, 0, 1, 1, 1, 1, 1, 1, 1, 1, 1, 1, 1, 1, 1, 1, 1, 1, 1, 1, 1, 1, 1, 1, 1, 1, 1, 1, 1, 1, 1, 1, 1, 1, 1, 1, 1, 1, 1, 1, 1, 1, 1, 1, 1, 1, 1, 0, 1, 1, 1, 1, 1, 1, 1, 1, 1, 1, 1, 1, 1, 1, 0, 1, 1, 1, 1, 1, 1, 1, 1, 1, 1, 1, 1, 1, 1, 0, 1, 1, 1, 1, 1, 1, 1, 1, 1, 1, 1, 1, 1, 1, 1, 1, 1, 1, 1, 1, 1, 1, 1, 1, 1, 0, 1, 1, 1, 1, 1, 1, 1, 1, 1, 1, 1, 1, 1, 1, 1, 1, 1, 1, 1, 1, 1, 1, 0, 1, 1, 1, 1, 1, 1, 1, 1, 1, 1, 1, 1, 1, 1, 0, 1, 1, 1, 1, 1, 1, 1, 1, 0, 1, 1, 1, 1, 1, 1, 1, 1, 1, 1, 1, 1, 1, 1, 1, 1, 1, 1, 1, 1, 0, 1, 1, 1, 1, 1, 1, 1, 1, 1, 1, 1, 1, 1, 1, 1, 1, 1, 1, 1, 1, 1, 1, 1, 1, 1, 1, 1, 1, 1, 1, 1, 1, 1, 1, 1, 0, 1, 1, 1, 1, 1, 1, 1, 1, 1, 1, 1, 1, 1, 1, 1, 1, 1, 1, 1, 1, 1, 1, 1, 1, 1, 1, 1, 1, 1, 1, 1, 1, 1, 0, 1, 1, 1, 1, 1, 1, 1, 1, 1, 1, 1, 1, 1, 1, 1, 1, 0, 1, 1, 0, 1, 1, 1, 1, 1, 1, 1, 1, 1, 1, 1, 1, 1, 1, 1, 1, 1, 0, 1, 1, 1, 1, 1, 1, 1, 1, 1, 1, 1, 1, 1, 1, 1, 1, 1, 1, 1, 1, 1, 1, 1, 1, 1, 1, 1, 1, 1, 0, 1, 1, 1, 1, 1, 1, 1, 1, 1, 1, 1, 1, 1, 1, 1, 1, 1, 0, 1, 1, 1, 1, 1, 1, 1, 0, 1, 1, 1, 1, 1, 1, 0, 1, 1, 1, 1, 1, 1, 1, 1, 1, 1, 1, 1, 1, 1, 1, 1, 1, 1, 1, 1, 1, 1, 1, 1, 1, 1, 1, 1, 1, 1, 1, 1, 1, 1, 1, 1, 1, 1, 1, 1, 1, 1, 1, 1, 1, 1, 1, 1, 1, 1, 1, 1, 1, 1, 1, 1, 1, 1, 1, 1, 0, 1, 1, 1, 1, 1, 0, 1, 1, 1, 1, 1, 1, 1, 1, 1, 1, 0, 1, 1, 1, 1, 0, 1, 0, 1, 1, 1, 1, 1, 1, 1, 1, 1, 1, 1, 1, 1, 1, 1, 1, 1, 1, 1, 1, 1, 1, 1, 1, 1, 1, 1, 1, 1, 1, 1, 1, 0, 1, 1, 1, 1, 1, 1, 1, 1, 1, 1, 1, 1, 1, 1, 1, 1, 1, 1, 1, 1, 1, 1, 1, 1, 1, 1, 1, 1, 1, 1, 1, 1, 1, 1, 1, 1, 1, 1, 1, 1, 1, 1, 1, 1, 1, 1, 1, 1, 1, 1, 1, 1, 1, 1, 1, 1, 1, 1, 1, 1, 1, 1, 1, 1, 1, 1, 1, 1, 0, 1, 1, 1, 1, 1, 1, 1, 1, 1, 1, 1, 1, 1, 1, 1, 1, 1, 1, 1, 1, 1, 1, 1, 1, 1, 1, 1, 1, 1, 1, 1, 1, 1, 1, 1, 1, 1, 1, 1, 1, 1, 1, 1, 1, 1, 1, 1, 1, 1, 1, 1, 1, 1, 1, 1, 1, 1, 1, 1, 1, 1, 1, 1, 1, 1, 1, 1, 1, 1, 1, 1, 1, 1, 1, 1, 1, 1, 1, 1, 1, 1, 1, 1, 1, 1, 1, 0, 1, 1, 1, 1, 1, 1, 1, 1, 1, 1, 1, 1, 1, 1, 1, 1, 1, 1, 1, 1, 1, 1, 1, 1, 1, 1, 1, 1, 1, 1, 1, 0, 0, 1, 1, 1, 1, 1, 1, 1, 1, 1, 0, 1, 1, 1, 1, 1, 1, 1, 1, 1, 1, 1, 1, 1, 1, 1, 1, 1, 1, 1, 1, 1, 1, 0, 1, 1, 1, 0, 1, 1, 1, 1, 1, 1, 1, 1, 1, 1, 1, 1, 1, 0, 1, 1, 1, 1, 1, 1, 1, 1, 1, 1, 1, 1, 1, 1, 1, 1, 1, 1, 1, 1, 1, 1, 1, 1, 1, 1, 1, 1, 0, 1, 1, 1, 1, 1, 1, 1, 1, 1, 1, 1, 1, 1, 0, 1, 1, 1, 1, 1, 0, 1, 1, 1, 1, 1, 1, 1, 1, 1, 1, 1, 1, 1, 1, 1, 1, 1, 0, 1, 1, 1, 1, 1, 1, 1, 1, 1, 1, 1, 1, 1, 1, 1, 1, 1, 1, 1, 1, 1, 1, 1, 1, 1, 1, 1, 1, 1, 1, 1, 1, 1, 1, 1, 1, 1, 1, 1, 1, 1, 1, 1, 1, 1, 1, 1, 1, 1, 0, 1, 1, 1, 1, 1, 1, 1, 1, 1, 1, 1, 0, 1, 1, 1, 1, 1, 1, 1, 1, 1, 1, 0, 1, 1, 1, 1, 1, 1, 0, 1, 1, 1, 1, 1, 1, 1, 1, 1, 1]\n",
      "test_acc: 0.9761904761904762 耗时:2.8516533374786377秒\n"
     ]
    }
   ],
   "source": [
    "# 预测模型\n",
    "t = time.time()\n",
    "y_pred = model.predict(x_test)  # 预测\n",
    "y_pred = np.argmax(y_pred, -1)\n",
    "print('预测值:', y_pred.tolist())  # 列表里的每个数值，如果与真实值相同，说明这张图片的类别是预测对的\n",
    "print('真实值:', y_test.tolist())\n",
    "print('test_acc:', np.mean(np.equal(y_pred, y_test)), '耗时:%s秒' % (time.time() - t))  # 最后给出准确率结构。（后续会画混淆矩阵等等）"
   ]
  },
  {
   "cell_type": "code",
   "execution_count": 19,
   "metadata": {},
   "outputs": [
    {
     "data": {
      "image/png": "[encoded data removed]",
      "text/plain": [
       "<Figure size 720x720 with 2 Axes>"
      ]
     },
     "metadata": {
      "needs_background": "light"
     },
     "output_type": "display_data"
    }
   ],
   "source": [
    "plot_matrix(y_test,y_pred,labels_name=[1,0],title='confuse matrix on real photos and DCGan fake photos by VGG16')"
   ]
  },
  {
   "cell_type": "code",
   "execution_count": 20,
   "metadata": {},
   "outputs": [
    {
     "name": "stdout",
     "output_type": "stream",
     "text": [
      "测试集查准率: 0.9774399215301618\n",
      "测试集召回率: 0.9979969954932398\n"
     ]
    }
   ],
   "source": [
    "print('测试集查准率:',precision_score(y_test,y_pred))\n",
    "print('测试集召回率:',recall_score(y_test,y_pred))"
   ]
  },
  {
   "cell_type": "code",
   "execution_count": null,
   "metadata": {},
   "outputs": [],
   "source": []
  }
 ],
 "metadata": {
  "kernelspec": {
   "display_name": "Python 3 (ipykernel)",
   "language": "python",
   "name": "python3"
  },
  "language_info": {
   "codemirror_mode": {
    "name": "ipython",
    "version": 3
   },
   "file_extension": ".py",
   "mimetype": "text/x-python",
   "name": "python",
   "nbconvert_exporter": "python",
   "pygments_lexer": "ipython3",
   "version": "3.8.0"
  },
  "vscode": {
   "interpreter": {
    "hash": "8cdb87e125f60fe8315be3f96612a4f42118210c75c7406749d2eea755180e22"
   }
  }
 },
 "nbformat": 4,
 "nbformat_minor": 4
}
